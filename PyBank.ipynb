{
 "cells": [
  {
   "cell_type": "code",
   "execution_count": 18,
   "metadata": {},
   "outputs": [],
   "source": [
    "# Dependencies\n",
    "import csv\n",
    "import os\n",
    "\n",
    "# Files to load and output (Remember to change these)\n",
    "file_to_load = os.path.join('..', 'Resources', 'budget_data.csv')\n",
    "file_to_output = os.path.join('..', 'Resources', \"budget_analysis.txt\")\n",
    "\n",
    "# Track various financial parameters\n",
    "total_months = 0\n",
    "month_of_change = []\n",
    "net_change_list = []\n",
    "greatest_increase = 0\n",
    "greatest_increase_month = \"\"\n",
    "greatest_decrease = 0\n",
    "greatest_decrease_month = \"\"\n",
    "total_net = 0\n",
    "\n",
    "# Read the csv and convert it into a list of dictionaries\n",
    "with open(file_to_load) as financial_data:\n",
    "    deposits = csv.reader(financial_data)\n",
    "    \n",
    "    #Read the header deposit\n",
    "    header = next(deposits)\n",
    "    \n",
    "    # Extract first deposit to avoid appending to net_change_list\n",
    "    first_deposit = next(deposits)\n",
    "    total_months += 1\n",
    "    total_net += int(first_deposit[1])\n",
    "    prev_net = int(first_deposit[1])\n",
    "    \n",
    "    for deposit in deposits:\n",
    "        total_net = total_net + int(deposit[1])\n",
    "        total_months = total_months + 1\n",
    "        net_increase = int(deposit[1]) - prev_net\n",
    "        net_change_list = net_change_list + [net_increase]\n",
    "        prev_net = int(deposit[1])\n",
    "        if(net_increase > greatest_increase):\n",
    "            greatest_increase = net_increase \n",
    "            greatest_increase_month = deposit[0]\n",
    "            \n",
    "        if(net_increase < greatest_decrease):\n",
    "            greatest_decrease = net_increase\n",
    "            greatest_decrease_month = deposit[0]\n",
    "\n",
    "#Calculate the average of the net change list\n",
    "average_changes = sum(net_change_list) / len(net_change_list)    \n"
   ]
  },
  {
   "cell_type": "code",
   "execution_count": 4,
   "metadata": {},
   "outputs": [
    {
     "data": {
      "text/plain": [
       "86"
      ]
     },
     "execution_count": 4,
     "metadata": {},
     "output_type": "execute_result"
    }
   ],
   "source": [
    "# Total Number of Months\n",
    "total_months"
   ]
  },
  {
   "cell_type": "code",
   "execution_count": 5,
   "metadata": {},
   "outputs": [
    {
     "data": {
      "text/plain": [
       "38382578"
      ]
     },
     "execution_count": 5,
     "metadata": {},
     "output_type": "execute_result"
    }
   ],
   "source": [
    "# Net total amount of Profit / Losses over the entire period\n",
    "total_net"
   ]
  },
  {
   "cell_type": "code",
   "execution_count": 6,
   "metadata": {},
   "outputs": [
    {
     "data": {
      "text/plain": [
       "1926159"
      ]
     },
     "execution_count": 6,
     "metadata": {},
     "output_type": "execute_result"
    }
   ],
   "source": [
    "#Greatest increase in profits (value)\n",
    "greatest_increase"
   ]
  },
  {
   "cell_type": "code",
   "execution_count": 7,
   "metadata": {},
   "outputs": [
    {
     "data": {
      "text/plain": [
       "'Feb-2012'"
      ]
     },
     "execution_count": 7,
     "metadata": {},
     "output_type": "execute_result"
    }
   ],
   "source": [
    "#Greatest increase in profits (Date)\n",
    "greatest_increase_month"
   ]
  },
  {
   "cell_type": "code",
   "execution_count": 8,
   "metadata": {},
   "outputs": [
    {
     "data": {
      "text/plain": [
       "-2196167"
      ]
     },
     "execution_count": 8,
     "metadata": {},
     "output_type": "execute_result"
    }
   ],
   "source": [
    "#Greatest decrease in profits (value)\n",
    "greatest_decrease"
   ]
  },
  {
   "cell_type": "code",
   "execution_count": 9,
   "metadata": {},
   "outputs": [
    {
     "data": {
      "text/plain": [
       "'Sep-2013'"
      ]
     },
     "execution_count": 9,
     "metadata": {},
     "output_type": "execute_result"
    }
   ],
   "source": [
    "#Greatest decrease in profits (Date)\n",
    "greatest_decrease_month"
   ]
  },
  {
   "cell_type": "code",
   "execution_count": 21,
   "metadata": {},
   "outputs": [
    {
     "data": {
      "text/plain": [
       "-2315.12"
      ]
     },
     "execution_count": 21,
     "metadata": {},
     "output_type": "execute_result"
    }
   ],
   "source": [
    "#Average of the changes in Profit / Losses over the entire period \n",
    "average_changes = round(average_changes,2)\n",
    "average_changes"
   ]
  },
  {
   "cell_type": "code",
   "execution_count": 22,
   "metadata": {},
   "outputs": [
    {
     "data": {
      "text/plain": [
       "'\\nFinancial Analysis\\n----------------------------\\nTotal Months: 86\\nTotal: $38382578\\nAverage Change: $-2315.12\\nGreatest Increase in Profits: Feb-2012 ($1926159)\\nGreatest Decrease in Profits: Sep-2013 ($-2196167)\\n'"
      ]
     },
     "execution_count": 22,
     "metadata": {},
     "output_type": "execute_result"
    }
   ],
   "source": [
    "#Print all financial analysis results below\n",
    "output = (\"\\nFinancial Analysis\"\n",
    "          \"\\n----------------------------\\n\"\n",
    "          f\"Total Months: {total_months}\\n\"\n",
    "          f\"Total: ${total_net}\\n\"\n",
    "          f\"Average Change: ${average_changes}\\n\"\n",
    "          f\"Greatest Increase in Profits: {greatest_increase_month} (${greatest_increase})\\n\"\n",
    "          f\"Greatest Decrease in Profits: {greatest_decrease_month} (${greatest_decrease})\\n\")\n",
    "output"
   ]
  },
  {
   "cell_type": "code",
   "execution_count": 23,
   "metadata": {},
   "outputs": [],
   "source": [
    "#Write output results to .txt file\n",
    "with open(file_to_output, 'w', newline=\"\") as csvfile:\n",
    "    csvfile.write(output)"
   ]
  },
  {
   "cell_type": "code",
   "execution_count": null,
   "metadata": {},
   "outputs": [],
   "source": []
  }
 ],
 "metadata": {
  "kernelspec": {
   "display_name": "Python 3",
   "language": "python",
   "name": "python3"
  },
  "language_info": {
   "codemirror_mode": {
    "name": "ipython",
    "version": 3
   },
   "file_extension": ".py",
   "mimetype": "text/x-python",
   "name": "python",
   "nbconvert_exporter": "python",
   "pygments_lexer": "ipython3",
   "version": "3.7.4"
  }
 },
 "nbformat": 4,
 "nbformat_minor": 2
}
